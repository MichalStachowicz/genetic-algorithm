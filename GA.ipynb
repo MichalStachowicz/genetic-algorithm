{
 "cells": [
  {
   "cell_type": "code",
   "execution_count": 1,
   "metadata": {},
   "outputs": [],
   "source": [
    "import random\n",
    "from random import randrange\n",
    "\n",
    "from ase.io import write\n",
    "from ase.data import atomic_numbers\n",
    "from ase.ga.data import PrepareDB\n",
    "from ase.visualize import view\n",
    "\n",
    "import numpy as np\n",
    "import os\n",
    "\n",
    "from pyxtal import pyxtal\n",
    "from pyxtal.crystal import Lattice\n",
    "from pyxtal.crystal import random_crystal_2D\n",
    "from pyxtal.crystal import Tol_matrix\n",
    "\n",
    "from ase.calculators.siesta import Siesta\n",
    "from ase.units import Ry\n",
    "\n",
    "import seaborn as sns\n",
    "import pandas as pd"
   ]
  },
  {
   "cell_type": "markdown",
   "metadata": {},
   "source": [
    "## Inputs"
   ]
  },
  {
   "cell_type": "code",
   "execution_count": 2,
   "metadata": {},
   "outputs": [],
   "source": [
    "name = 'MoS2'                                    #Name of the structure \n",
    "species = ['Mo', 'S']                            #Chemical species of the structure\n",
    "quantity = [1, 2]                                #Quantity of chemical species in elemental cell\n",
    "thickness = 5.0                                  #Thickness of the structure\n",
    "\n",
    "n_ind = 10                                       #no. of structures in population\n",
    "a = 0.4                                          #Percentage of individuals\n",
    "n_gen = 10                                       #Number of generations"
   ]
  },
  {
   "cell_type": "code",
   "execution_count": 3,
   "metadata": {},
   "outputs": [],
   "source": [
    "n_id = 1\n",
    "\n",
    "#Creating a file\n",
    "file_name = f'DateBase_{name}_rulette.txt'"
   ]
  },
  {
   "cell_type": "code",
   "execution_count": 4,
   "metadata": {},
   "outputs": [],
   "source": [
    "def dist(a, b):  # returns distance of two vectors\n",
    "    d = np.sqrt((a[0] - b[0]) * (a[0] - b[0]) + (a[1] - b[1]) * (a[1] - b[1]) + (a[2] - b[2]) * (a[2] - b[2]))\n",
    "    return d"
   ]
  },
  {
   "cell_type": "code",
   "execution_count": 5,
   "metadata": {},
   "outputs": [],
   "source": [
    "def check_dist(nat, positions, dmin, dmax):\n",
    "    # checks if atoms' positions fullfill dmin distance constraint, returns flag 1/0\n",
    "    flag = 1\n",
    "    for i in range(nat):\n",
    "        for j in range(nat):\n",
    "            if i != j:\n",
    "                ds = dist(positions[i], positions[j])\n",
    "                if (ds < dmin) or (ds > dmax):\n",
    "                    flag = 0\n",
    "    return flag"
   ]
  },
  {
   "cell_type": "markdown",
   "metadata": {},
   "source": [
    "# Structure Initialization "
   ]
  },
  {
   "cell_type": "code",
   "execution_count": 6,
   "metadata": {},
   "outputs": [],
   "source": [
    "def init_atoms():\n",
    "    atoms_out = None\n",
    "    Natt = 200 # no of attempts\n",
    "    for i in range(Natt):\n",
    "        group_id = randrange(80) + 1\n",
    "        my_crystal = pyxtal()\n",
    "        \n",
    "        try:\n",
    "            my_crystal.from_random(2, group_id, species, quantity, thickness=thickness)\n",
    "        except RuntimeError:\n",
    "            continue\n",
    "        #\n",
    "        atoms = my_crystal.to_ase()\n",
    "        positions = atoms.get_positions()\n",
    "        nat = len(atoms.get_chemical_symbols()) \n",
    "        #\n",
    "        dmin = 1.0\n",
    "        dmax = 2.5\n",
    "        flag = check_dist(nat, positions, dmin, dmax)\n",
    "        \n",
    "        if flag==1:\n",
    "            atoms_out = atoms\n",
    "            break\n",
    "    return atoms_out  #Atoms object"
   ]
  },
  {
   "cell_type": "markdown",
   "metadata": {},
   "source": [
    "## Siesta calculator "
   ]
  },
  {
   "cell_type": "code",
   "execution_count": 7,
   "metadata": {},
   "outputs": [],
   "source": [
    "calc = Siesta(label=name,       \n",
    "               xc='PBE',\n",
    "               mesh_cutoff=200 * Ry,\n",
    "               energy_shift=0.01 * Ry,\n",
    "               basis_set='SZP',\n",
    "               kpts=[12, 12, 1],\n",
    "               pseudo_path='/home/czeski/Pobrane/siesta-4.1-b4/pseudo',\n",
    "               fdf_arguments={'MaxSCFIterations': 500,   \n",
    "                              'DM.Tolerance': 1.E-5,\n",
    "                              'DM.NumberPulay': 6,                        \n",
    "                              'DM.NumberBroyden': 0,\n",
    "                              'DM.MixingWeight': 0.1000000000,             \n",
    "                              'DM.OccupancyTolerance':0.1000000000E-11,         \n",
    "                              'DM.NumberKick': 0,                        \n",
    "                              'DM.KickMixingWeight': 0.5000000000,\n",
    "                              'MD.NumCGsteps': 150,                        \n",
    "                              'MD.TypeOfRun': 'CG',                       \n",
    "                              'MD.VariableCell': 'F',                        \n",
    "                              'WriteMullikenPop': 1,    \n",
    "                              'WriteDenchar': True,      \n",
    "                              'WriteKpoints': True,      \n",
    "                              'WriteForces': True,      \n",
    "                              'WriteDM': True,      \n",
    "                              'WriteXML': True,      \n",
    "                              'WriteEigenvalues': False, \n",
    "                              'WriteCoorStep': True,      \n",
    "                              'WriteMDhistory': True,    \n",
    "                              'WriteMDXmol': True,      \n",
    "                              'WriteCoorXmol': True, \n",
    "                             },)"
   ]
  },
  {
   "cell_type": "markdown",
   "metadata": {},
   "source": [
    "## Indyvidual"
   ]
  },
  {
   "cell_type": "code",
   "execution_count": 8,
   "metadata": {},
   "outputs": [],
   "source": [
    "class Indyvidual:\n",
    "    \n",
    "\n",
    "    \n",
    "    def __init__(self, structure,n_gen):\n",
    "        self.calc = calc                    \n",
    "        self.init_structure = structure     \n",
    "        self.energy = 0.0\n",
    "        self.ngen = n_gen\n",
    "        self.status = 'Random'\n",
    "        self.id = n_id\n",
    "        \n",
    "    def calc_energy(self):\n",
    "        self.init_structure.calc = calc\n",
    "        self.energy = self.init_structure.get_potential_energy()\n",
    "        \n",
    "    def next_gen(self):\n",
    "        self.ngen = self.ngen + 1\n",
    "        \n",
    "    def mutation(self):\n",
    "        positions = self.init_structure.get_positions()\n",
    "        new = [ n + (random.random()-0.5) for n in positions]    \n",
    "        self.init_structure.set_positions(new)\n",
    "        self.status = 'Mutated'\n",
    "    \n",
    "    def get_init_structure(self):\n",
    "        return self.init_structure.copy()\n",
    "    \n",
    "    def get_energy(self):\n",
    "        return self.energy\n",
    "    \n",
    "    def get_ngen(self):\n",
    "        return self.ngen\n",
    "    \n",
    "    def get_position(self):\n",
    "        return self.init_structure.get_positions()\n",
    "    \n",
    "    def get_status(self):\n",
    "        return self.status\n",
    "    \n",
    "    def get_id(self):\n",
    "        return self.id    \n",
    "    "
   ]
  },
  {
   "cell_type": "code",
   "execution_count": 9,
   "metadata": {},
   "outputs": [],
   "source": [
    "def energy_sorting(pop):\n",
    "    for i in range(len(pop)):\n",
    "        try:\n",
    "            pop[i].calc_energy()\n",
    "        except:\n",
    "            print(\"energy calculation failed\")\n",
    "            pop[i].energy = +1000.\n",
    "            \n",
    "    sorted_pop = sorted(pop, key=lambda x: x.energy) \n",
    "\n",
    "    for i in range(len(sorted_pop)):\n",
    "        print(sorted_pop[i].get_energy())\n",
    "    return sorted_pop\n",
    "    "
   ]
  },
  {
   "cell_type": "code",
   "execution_count": 10,
   "metadata": {},
   "outputs": [],
   "source": [
    "#Returns 1 if change is less then 2% \n",
    "def flag(new, old):                                    \n",
    "    if ((old- new)/old < 0.02):\n",
    "        print((old- new)/old < 0.02)\n",
    "        return 1 \n",
    "    return 0"
   ]
  },
  {
   "cell_type": "markdown",
   "metadata": {},
   "source": [
    "### Saving to TextFile"
   ]
  },
  {
   "cell_type": "code",
   "execution_count": 11,
   "metadata": {},
   "outputs": [],
   "source": [
    "#Input: Population, file, generation number\n",
    "def write_file(pop,f,g):             \n",
    "    f.write(f'Generation nr:{g}')\n",
    "    f.write('\\n')\n",
    "    for i in range(len(pop)):\n",
    "        f.write(f'Energy: {pop[i].get_energy()}, Status: {pop[i].get_status()}')\n",
    "        f.write('\\n')"
   ]
  },
  {
   "cell_type": "markdown",
   "metadata": {},
   "source": [
    "## Choice by Rulette \n",
    "#### Returns indyvidual nuber "
   ]
  },
  {
   "cell_type": "code",
   "execution_count": 12,
   "metadata": {},
   "outputs": [],
   "source": [
    "def choice_by_rulette(pop):\n",
    "    \n",
    "    #Totaly population fitness\n",
    "    population_sum = sum([individual.get_energy() for individual in pop])\n",
    "    \n",
    "    #Each individual probability\n",
    "    individuals_prob = [individual.get_energy()/population_sum for individual in pop]\n",
    "    \n",
    "    n = np.arange(0,len(pop))\n",
    "    while True:\n",
    "        indyvidual =  np.random.choice(n, p=individuals_prob)\n",
    "        #The best indyvidual in untouchable\n",
    "        if (indyvidual==0):\n",
    "            continue\n",
    "        return indyvidual\n",
    "\n",
    "\n"
   ]
  },
  {
   "cell_type": "markdown",
   "metadata": {},
   "source": [
    "## Starting population"
   ]
  },
  {
   "cell_type": "code",
   "execution_count": 13,
   "metadata": {
    "scrolled": false
   },
   "outputs": [
    {
     "name": "stderr",
     "output_type": "stream",
     "text": [
      "/home/czeski/anaconda3/lib/python3.8/site-packages/pyxtal/msg.py:21: UserWarning: Error: the stoichiometry is incompatible with wyckoff choice\n",
      "  warn(text)\n"
     ]
    },
    {
     "name": "stdout",
     "output_type": "stream",
     "text": [
      "-771.944865\n",
      "-769.806386\n",
      "-769.783492\n",
      "-768.282296\n",
      "-763.363999\n",
      "-763.198778\n",
      "-760.751991\n",
      "-754.072876\n",
      "-747.028119\n",
      "-718.849372\n"
     ]
    }
   ],
   "source": [
    "am =int(a*n_ind)                                 #Amount of individuals going to the next generation\n",
    "arr = np.arange(am,n_ind)                        #Array of iterations\n",
    "best = []                                        #Array of best indyviduals\n",
    "data = []                                        #Array for data base\n",
    "\n",
    "f=open(file_name, \"w\")\n",
    "\n",
    "\n",
    "#Preapering first population\n",
    "pop = [] \n",
    "i=1\n",
    "while (len(pop)<n_ind):\n",
    "    pop.append(Indyvidual(init_atoms(), 1))\n",
    "    i=i+1\n",
    "\n",
    "sorted_pop = energy_sorting(pop)\n",
    "data.append(sorted_pop)                         #Collecting data\n",
    "write_file(sorted_pop, f, 1)                    #Writing first generation to file\n",
    "best.append(sorted_pop[0].get_energy())"
   ]
  },
  {
   "cell_type": "markdown",
   "metadata": {},
   "source": [
    "## Next generations "
   ]
  },
  {
   "cell_type": "raw",
   "metadata": {},
   "source": [
    "for g in range(n_gen):\n",
    "    \n",
    "    #a% of the best individuals go to the next generation\n",
    "    new_pop = sorted_pop[0:am]                  \n",
    "    i=1\n",
    "    \n",
    "    #Appending new random individuals\n",
    "    while (len(new_pop)<(n_ind)):                   \n",
    "        new_pop.append(Indyvidual(init_atoms(), g+2))\n",
    "        print(i)\n",
    "        i=i+1   \n",
    "    \n",
    "    #Calculating energy of new individuals\n",
    "    for i in arr:\n",
    "        new_pop[i].calc_energy()                 \n",
    "    \n",
    "    \n",
    "    #Mutation\n",
    "    #Draw 'old' individual to mutation. The best one is untouchable.\n",
    "    rand = random.randint(1,am-1)                \n",
    "    new_pop[rand].mutation()\n",
    "    new_pop[rand].calc_energy()\n",
    "\n",
    "    sorted_pop = sorted(new_pop, key=lambda x: x.energy)\n",
    "    print(\"\\nGeneration nr:\",g + 1)\n",
    "    print(\"Sorted Energies:\")\n",
    "    for i in range(len(sorted_pop)):\n",
    "        print(sorted_pop[i].get_energy()) \n",
    "    best.append(sorted_pop[0].get_energy())\n",
    "    \n",
    "    data.append(sorted_pop)\n",
    "    write_file(sorted_pop, f, g+2)  \n",
    "    write(filename=f\"BestStructGen{g+1}.in\", images=sorted_pop[0].init_structure, format='espresso-in')\n",
    "    \n",
    "\n",
    "f.close()\n"
   ]
  },
  {
   "cell_type": "markdown",
   "metadata": {},
   "source": [
    "## Next Generations but using Choice by Roulette"
   ]
  },
  {
   "cell_type": "code",
   "execution_count": 14,
   "metadata": {
    "scrolled": false
   },
   "outputs": [
    {
     "name": "stdout",
     "output_type": "stream",
     "text": [
      "\n",
      "Generation nr: 1\n",
      "Sorted Energies:\n",
      "-772.031997\n",
      "-771.944865\n",
      "-770.595746\n",
      "-769.806386\n",
      "-769.783492\n",
      "-768.325698\n",
      "-762.732966\n",
      "-761.801932\n",
      "-748.42078\n",
      "-716.803225\n",
      "\n",
      "Generation nr: 2\n",
      "Sorted Energies:\n",
      "-776.793779\n",
      "-776.010225\n",
      "-772.062321\n",
      "-772.031997\n",
      "-770.595746\n",
      "-769.806386\n",
      "-768.075517\n",
      "-766.483883\n",
      "-759.725618\n",
      "-750.272171\n",
      "\n",
      "Generation nr: 3\n",
      "Sorted Energies:\n",
      "-776.793779\n",
      "-776.009386\n",
      "-772.062321\n",
      "-772.031997\n",
      "-770.42634\n",
      "-764.800506\n",
      "-756.123156\n",
      "-742.166692\n",
      "-731.069063\n",
      "-694.533208\n",
      "\n",
      "Generation nr: 4\n",
      "Sorted Energies:\n",
      "-776.793779\n",
      "-776.009124\n",
      "-775.685221\n",
      "-775.125109\n",
      "-772.062321\n",
      "-772.031997\n",
      "-770.135535\n",
      "-766.623393\n",
      "-746.636467\n",
      "-704.880806\n",
      "\n",
      "Generation nr: 5\n",
      "Sorted Energies:\n",
      "-776.793779\n",
      "-776.237255\n",
      "-776.009124\n",
      "-775.125109\n",
      "-770.468244\n",
      "-767.688095\n",
      "-764.130609\n",
      "-758.897221\n",
      "-758.723196\n",
      "-727.751238\n",
      "\n",
      "Generation nr: 6\n",
      "Sorted Energies:\n",
      "-776.793779\n",
      "-776.237255\n",
      "-775.125109\n",
      "-771.754408\n",
      "-768.955475\n",
      "-768.655872\n",
      "-766.993405\n",
      "-766.325476\n",
      "-753.570859\n",
      "-725.204835\n",
      "\n",
      "Generation nr: 7\n",
      "Sorted Energies:\n",
      "-776.793779\n",
      "-775.683845\n",
      "-775.275163\n",
      "-775.125109\n",
      "-771.754408\n",
      "-770.05549\n",
      "-769.200612\n",
      "-766.626423\n",
      "-765.209908\n",
      "-746.016172\n",
      "\n",
      "Generation nr: 8\n",
      "Sorted Energies:\n",
      "-776.793779\n",
      "-775.683845\n",
      "-775.275163\n",
      "-775.125549\n",
      "-770.749139\n",
      "-767.916852\n",
      "-758.889092\n",
      "-756.874486\n",
      "-738.831029\n",
      "-729.603183\n",
      "\n",
      "Generation nr: 9\n",
      "Sorted Energies:\n",
      "-776.793779\n",
      "-775.684012\n",
      "-775.275163\n",
      "-775.125549\n",
      "-770.744588\n",
      "-769.796876\n",
      "-762.686758\n",
      "-755.465654\n",
      "-748.655175\n",
      "-676.403186\n",
      "\n",
      "Generation nr: 10\n",
      "Sorted Energies:\n",
      "-776.793779\n",
      "-776.148365\n",
      "-775.684012\n",
      "-775.275163\n",
      "-775.12505\n",
      "-771.519943\n",
      "-770.273428\n",
      "-769.012397\n",
      "-768.431069\n",
      "-764.460622\n"
     ]
    }
   ],
   "source": [
    "for g in range(n_gen):\n",
    "    #a%  of the best individuals go to the next generation\n",
    "    new_pop = sorted_pop[0:am]                   \n",
    "    chosen = choice_by_rulette(new_pop)\n",
    "    new_pop[chosen].mutation()\n",
    "    \n",
    "    try:\n",
    "        new_pop[chosen].calc_energy()\n",
    "    except:\n",
    "        new_pop[chosen].energy = +1000.\n",
    "    #Appending new random individuals\n",
    "    i=1\n",
    "    while (len(new_pop)<(n_ind)):                   \n",
    "        new_pop.append(Indyvidual(init_atoms(), g+2))\n",
    "        i=i+1   \n",
    "    \n",
    "    #Calculating energy of new individuals\n",
    "    for i in arr:\n",
    "        try:\n",
    "            new_pop[i].calc_energy()                 \n",
    "        except:\n",
    "            print(\"energy calculation failed\")\n",
    "            new_pop[i].energy = +1000.\n",
    "\n",
    "    #Sorting Population\n",
    "    sorted_pop = sorted(new_pop, key=lambda x: x.energy)\n",
    "    \n",
    "    print(\"\\nGeneration nr:\",g + 1)\n",
    "    print(\"Sorted Energies:\")\n",
    "    \n",
    "    for i in range(len(sorted_pop)):\n",
    "        print(sorted_pop[i].get_energy())\n",
    "    best.append(sorted_pop[0].get_energy())\n",
    "    \n",
    "    \n",
    "    \n",
    "    data.append(sorted_pop)\n",
    "    write_file(sorted_pop, f, g+2)  \n",
    "    write(filename=f\"BestStructGen{g+1}rulette{name}.in\", images=sorted_pop[0].init_structure, format='espresso-in')\n",
    "    \n",
    "\n",
    "f.close()\n"
   ]
  },
  {
   "cell_type": "markdown",
   "metadata": {},
   "source": [
    "## View Best Individual"
   ]
  },
  {
   "cell_type": "code",
   "execution_count": 15,
   "metadata": {},
   "outputs": [
    {
     "data": {
      "application/vnd.jupyter.widget-view+json": {
       "model_id": "3350768091e948d7b94e92c7f1fc35af",
       "version_major": 2,
       "version_minor": 0
      },
      "text/plain": [
       "GridspecLayout(children=(Renderer(camera=PerspectiveCamera(fov=10.0, position=(0.0, 0.0, 49.86315094678014), p…"
      ]
     },
     "metadata": {},
     "output_type": "display_data"
    }
   ],
   "source": [
    "from ase import Atoms\n",
    "from ase_notebook import AseView, ViewConfig, get_example_atoms\n",
    "\n",
    "config = ViewConfig()\n",
    "ase_view = AseView(config)\n",
    "\n",
    "ase_view = AseView(\n",
    "    rotations=\"0x,0y,0z\",\n",
    "    atom_font_size=16,\n",
    "    axes_length=30,\n",
    "    canvas_size=(400, 400),\n",
    "    zoom=1.2,\n",
    "    show_bonds=True\n",
    ")\n",
    "ase_view.config.uc_dash_pattern=(.6,.4)\n",
    "ase_view.add_miller_plane(\n",
    "    1, 0, 0, color=\"green\")\n",
    "ase_view.config\n",
    "\n",
    "\n",
    "\n",
    "ase_view.config.canvas_color_background = \"white\"\n",
    "ase_view.config.canvas_background_opacity = 0\n",
    "gui = ase_view.make_render(\n",
    "    sorted_pop[0].get_init_structure() , center_in_uc=True)\n",
    "gui"
   ]
  },
  {
   "cell_type": "markdown",
   "metadata": {},
   "source": [
    "## Creating Database "
   ]
  },
  {
   "cell_type": "code",
   "execution_count": 16,
   "metadata": {},
   "outputs": [],
   "source": [
    "ind = []\n",
    "for i in range(len(data)):\n",
    "    for j in range(n_ind):\n",
    "        ind.append(data[i][j])    "
   ]
  },
  {
   "cell_type": "code",
   "execution_count": 17,
   "metadata": {},
   "outputs": [
    {
     "data": {
      "text/html": [
       "<div>\n",
       "<style scoped>\n",
       "    .dataframe tbody tr th:only-of-type {\n",
       "        vertical-align: middle;\n",
       "    }\n",
       "\n",
       "    .dataframe tbody tr th {\n",
       "        vertical-align: top;\n",
       "    }\n",
       "\n",
       "    .dataframe thead th {\n",
       "        text-align: right;\n",
       "    }\n",
       "</style>\n",
       "<table border=\"1\" class=\"dataframe\">\n",
       "  <thead>\n",
       "    <tr style=\"text-align: right;\">\n",
       "      <th></th>\n",
       "      <th>indyvidual</th>\n",
       "      <th>id</th>\n",
       "      <th>energy</th>\n",
       "      <th>n_gen</th>\n",
       "      <th>status</th>\n",
       "    </tr>\n",
       "  </thead>\n",
       "  <tbody>\n",
       "    <tr>\n",
       "      <th>100</th>\n",
       "      <td>&lt;__main__.Indyvidual object at 0x7f388a368e50&gt;</td>\n",
       "      <td>MoS2  1</td>\n",
       "      <td>-776.793779</td>\n",
       "      <td>3</td>\n",
       "      <td>Random</td>\n",
       "    </tr>\n",
       "    <tr>\n",
       "      <th>101</th>\n",
       "      <td>&lt;__main__.Indyvidual object at 0x7f38ede0ef40&gt;</td>\n",
       "      <td>MoS2  1</td>\n",
       "      <td>-776.148365</td>\n",
       "      <td>11</td>\n",
       "      <td>Random</td>\n",
       "    </tr>\n",
       "    <tr>\n",
       "      <th>102</th>\n",
       "      <td>&lt;__main__.Indyvidual object at 0x7f388a311df0&gt;</td>\n",
       "      <td>MoS2  1</td>\n",
       "      <td>-775.684012</td>\n",
       "      <td>5</td>\n",
       "      <td>Mutated</td>\n",
       "    </tr>\n",
       "    <tr>\n",
       "      <th>103</th>\n",
       "      <td>&lt;__main__.Indyvidual object at 0x7f388c42a970&gt;</td>\n",
       "      <td>MoS2  1</td>\n",
       "      <td>-775.275163</td>\n",
       "      <td>8</td>\n",
       "      <td>Random</td>\n",
       "    </tr>\n",
       "    <tr>\n",
       "      <th>104</th>\n",
       "      <td>&lt;__main__.Indyvidual object at 0x7f388c4282b0&gt;</td>\n",
       "      <td>MoS2  1</td>\n",
       "      <td>-775.125050</td>\n",
       "      <td>5</td>\n",
       "      <td>Mutated</td>\n",
       "    </tr>\n",
       "    <tr>\n",
       "      <th>...</th>\n",
       "      <td>...</td>\n",
       "      <td>...</td>\n",
       "      <td>...</td>\n",
       "      <td>...</td>\n",
       "      <td>...</td>\n",
       "    </tr>\n",
       "    <tr>\n",
       "      <th>9</th>\n",
       "      <td>&lt;__main__.Indyvidual object at 0x7f388c471f10&gt;</td>\n",
       "      <td>MoS2  1</td>\n",
       "      <td>-718.849372</td>\n",
       "      <td>1</td>\n",
       "      <td>Random</td>\n",
       "    </tr>\n",
       "    <tr>\n",
       "      <th>19</th>\n",
       "      <td>&lt;__main__.Indyvidual object at 0x7f388c3e22b0&gt;</td>\n",
       "      <td>MoS2  1</td>\n",
       "      <td>-716.803225</td>\n",
       "      <td>2</td>\n",
       "      <td>Random</td>\n",
       "    </tr>\n",
       "    <tr>\n",
       "      <th>49</th>\n",
       "      <td>&lt;__main__.Indyvidual object at 0x7f388a3689a0&gt;</td>\n",
       "      <td>MoS2  1</td>\n",
       "      <td>-704.880806</td>\n",
       "      <td>5</td>\n",
       "      <td>Random</td>\n",
       "    </tr>\n",
       "    <tr>\n",
       "      <th>39</th>\n",
       "      <td>&lt;__main__.Indyvidual object at 0x7f388a368b50&gt;</td>\n",
       "      <td>MoS2  1</td>\n",
       "      <td>-694.533208</td>\n",
       "      <td>4</td>\n",
       "      <td>Random</td>\n",
       "    </tr>\n",
       "    <tr>\n",
       "      <th>99</th>\n",
       "      <td>&lt;__main__.Indyvidual object at 0x7f38bc5dfe50&gt;</td>\n",
       "      <td>MoS2  1</td>\n",
       "      <td>-676.403186</td>\n",
       "      <td>10</td>\n",
       "      <td>Random</td>\n",
       "    </tr>\n",
       "  </tbody>\n",
       "</table>\n",
       "<p>70 rows × 5 columns</p>\n",
       "</div>"
      ],
      "text/plain": [
       "                                         indyvidual       id      energy  \\\n",
       "100  <__main__.Indyvidual object at 0x7f388a368e50>  MoS2  1 -776.793779   \n",
       "101  <__main__.Indyvidual object at 0x7f38ede0ef40>  MoS2  1 -776.148365   \n",
       "102  <__main__.Indyvidual object at 0x7f388a311df0>  MoS2  1 -775.684012   \n",
       "103  <__main__.Indyvidual object at 0x7f388c42a970>  MoS2  1 -775.275163   \n",
       "104  <__main__.Indyvidual object at 0x7f388c4282b0>  MoS2  1 -775.125050   \n",
       "..                                              ...      ...         ...   \n",
       "9    <__main__.Indyvidual object at 0x7f388c471f10>  MoS2  1 -718.849372   \n",
       "19   <__main__.Indyvidual object at 0x7f388c3e22b0>  MoS2  1 -716.803225   \n",
       "49   <__main__.Indyvidual object at 0x7f388a3689a0>  MoS2  1 -704.880806   \n",
       "39   <__main__.Indyvidual object at 0x7f388a368b50>  MoS2  1 -694.533208   \n",
       "99   <__main__.Indyvidual object at 0x7f38bc5dfe50>  MoS2  1 -676.403186   \n",
       "\n",
       "     n_gen   status  \n",
       "100      3   Random  \n",
       "101     11   Random  \n",
       "102      5  Mutated  \n",
       "103      8   Random  \n",
       "104      5  Mutated  \n",
       "..     ...      ...  \n",
       "9        1   Random  \n",
       "19       2   Random  \n",
       "49       5   Random  \n",
       "39       4   Random  \n",
       "99      10   Random  \n",
       "\n",
       "[70 rows x 5 columns]"
      ]
     },
     "execution_count": 17,
     "metadata": {},
     "output_type": "execute_result"
    }
   ],
   "source": [
    "d = {'indyvidual': ind}\n",
    "df=pd.DataFrame(data = d)\n",
    "df\n",
    "\n",
    "def get_energyDF(x):\n",
    "    return x.get_energy()\n",
    "\n",
    "def get_ngenDF(x):\n",
    "    return x.get_ngen()\n",
    "\n",
    "def get_statusDF(x):\n",
    "    return x.get_status()\n",
    "\n",
    "def get_idDF(x):\n",
    "    return f\"{name}  {x.get_id()}\"\n",
    "\n",
    "df['id'] = df['indyvidual'].apply(get_idDF)\n",
    "df['energy'] = df['indyvidual'].apply(get_energyDF)\n",
    "df['n_gen'] = df['indyvidual'].apply(get_ngenDF)\n",
    "df['status'] = df['indyvidual'].apply(get_statusDF)\n",
    "\n",
    "df = df.drop_duplicates(subset=['indyvidual'], keep='last')\n",
    "df.sort_values('energy')\n"
   ]
  },
  {
   "cell_type": "markdown",
   "metadata": {},
   "source": [
    "#### Writting best structure espresso_in file \n",
    "#### Writting DataBase to csv"
   ]
  },
  {
   "cell_type": "code",
   "execution_count": 18,
   "metadata": {},
   "outputs": [],
   "source": [
    "write(filename=f\"Najlepsza_testowanie_{name}.in\", images=sorted_pop[0].init_structure, format='espresso-in')\n",
    "df.to_csv(f\"DataBase_{name}.csv\")"
   ]
  },
  {
   "cell_type": "markdown",
   "metadata": {},
   "source": [
    "#### Creating best Indyviduals Plot"
   ]
  },
  {
   "cell_type": "code",
   "execution_count": 19,
   "metadata": {},
   "outputs": [
    {
     "data": {
      "image/png": "[encoded data removed]",
      "text/plain": [
       "<Figure size 360x360 with 1 Axes>"
      ]
     },
     "metadata": {
      "needs_background": "light"
     },
     "output_type": "display_data"
    }
   ],
   "source": [
    "f= sns.relplot(x=np.arange(1, n_gen+2), y=best)\n",
    "f.set(xlabel='Generation Step', ylabel='Energy', title=f'Best Idividual in step {name}')\n",
    "sns.axes_style()\n",
    "sns.set_style(\"darkgrid\", {\"axes.facecolor\": \".9\"})\n",
    "f.fig.autofmt_xdate()"
   ]
  },
  {
   "cell_type": "code",
   "execution_count": null,
   "metadata": {},
   "outputs": [],
   "source": []
  },
  {
   "cell_type": "code",
   "execution_count": null,
   "metadata": {},
   "outputs": [],
   "source": [
    "\n"
   ]
  }
 ],
 "metadata": {
  "kernelspec": {
   "display_name": "Python 3",
   "language": "python",
   "name": "python3"
  },
  "language_info": {
   "codemirror_mode": {
    "name": "ipython",
    "version": 3
   },
   "file_extension": ".py",
   "mimetype": "text/x-python",
   "name": "python",
   "nbconvert_exporter": "python",
   "pygments_lexer": "ipython3",
   "version": "3.8.3"
  }
 },
 "nbformat": 4,
 "nbformat_minor": 4
}
